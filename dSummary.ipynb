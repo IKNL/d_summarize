{
 "cells": [
  {
   "cell_type": "markdown",
   "metadata": {},
   "source": [
    "# d_summary\n",
    "Algorithm that does some vary basic validation of the remote dataset. Which includes:\n",
    "* Check header labels\n",
    "* Count the number of rows\n",
    "* Average of `int64` and `float64` columns\n",
    "* Categories of `category` columns\n",
    "\n",
    "Limits of the algorithm:\n",
    "* The entire dataset needs at least 10 records.\n",
    "* `category` columns needs at least 2 different values"
   ]
  },
  {
   "cell_type": "markdown",
   "metadata": {},
   "source": [
    "## 1. Algorithm"
   ]
  },
  {
   "cell_type": "code",
   "execution_count": 39,
   "metadata": {},
   "outputs": [],
   "source": [
    "import pandas\n",
    "import json"
   ]
  },
  {
   "cell_type": "markdown",
   "metadata": {},
   "source": [
    "### input.txt\n",
    "The input.txt is mounted by the docker-container, and contains input to the algorithm.\n",
    "\n",
    "The input for this algorithm include the method name that is called in the docker-container `summarize` and a `dict` containing column names and dtypes. The allowed types are: `object`, `int64`, `float64`, `bool`, `datetime64`, `category`"
   ]
  },
  {
   "cell_type": "code",
   "execution_count": 40,
   "metadata": {},
   "outputs": [],
   "source": [
    "input_ = {\n",
    "    \"method\":\"summarize\", \n",
    "    \"columns\":{\n",
    "        \"patient_id\": 'Int64',\n",
    "        \"age\": 'Int64',\n",
    "        \"weight\": 'float64', \n",
    "        \"stage\": 'category',\n",
    "        \"cat\": 'category',\n",
    "        \"hot_encoded\": 'Int64'\n",
    "    }\n",
    "}"
   ]
  },
  {
   "cell_type": "markdown",
   "metadata": {},
   "source": [
    "### database.csv\n",
    "The database csv-file is mounted in the docker-container."
   ]
  },
  {
   "cell_type": "code",
   "execution_count": 41,
   "metadata": {},
   "outputs": [
    {
     "data": {
      "text/plain": [
       "'C:\\\\Users\\\\FMa1805.36838\\\\Repositories\\\\dSummary'"
      ]
     },
     "execution_count": 41,
     "metadata": {},
     "output_type": "execute_result"
    }
   ],
   "source": [
    "%pwd"
   ]
  },
  {
   "cell_type": "code",
   "execution_count": 42,
   "metadata": {},
   "outputs": [
    {
     "data": {
      "text/html": [
       "<div>\n",
       "<style scoped>\n",
       "    .dataframe tbody tr th:only-of-type {\n",
       "        vertical-align: middle;\n",
       "    }\n",
       "\n",
       "    .dataframe tbody tr th {\n",
       "        vertical-align: top;\n",
       "    }\n",
       "\n",
       "    .dataframe thead th {\n",
       "        text-align: right;\n",
       "    }\n",
       "</style>\n",
       "<table border=\"1\" class=\"dataframe\">\n",
       "  <thead>\n",
       "    <tr style=\"text-align: right;\">\n",
       "      <th></th>\n",
       "      <th>patient_id</th>\n",
       "      <th>age</th>\n",
       "      <th>weight</th>\n",
       "      <th>stage</th>\n",
       "      <th>cat</th>\n",
       "      <th>hot_encoded</th>\n",
       "    </tr>\n",
       "  </thead>\n",
       "  <tbody>\n",
       "    <tr>\n",
       "      <th>0</th>\n",
       "      <td>1</td>\n",
       "      <td>41</td>\n",
       "      <td>73.2</td>\n",
       "      <td>IV</td>\n",
       "      <td>Q</td>\n",
       "      <td>1</td>\n",
       "    </tr>\n",
       "    <tr>\n",
       "      <th>1</th>\n",
       "      <td>2</td>\n",
       "      <td>37</td>\n",
       "      <td>65.9</td>\n",
       "      <td>I</td>\n",
       "      <td>Q</td>\n",
       "      <td>NaN</td>\n",
       "    </tr>\n",
       "    <tr>\n",
       "      <th>2</th>\n",
       "      <td>3</td>\n",
       "      <td>45</td>\n",
       "      <td>84.1</td>\n",
       "      <td>II</td>\n",
       "      <td>Q</td>\n",
       "      <td>0</td>\n",
       "    </tr>\n",
       "    <tr>\n",
       "      <th>3</th>\n",
       "      <td>4</td>\n",
       "      <td>47</td>\n",
       "      <td>83.1</td>\n",
       "      <td>II</td>\n",
       "      <td>Q</td>\n",
       "      <td>0</td>\n",
       "    </tr>\n",
       "    <tr>\n",
       "      <th>4</th>\n",
       "      <td>5</td>\n",
       "      <td>33</td>\n",
       "      <td>NaN</td>\n",
       "      <td>NaN</td>\n",
       "      <td>Q</td>\n",
       "      <td>1</td>\n",
       "    </tr>\n",
       "    <tr>\n",
       "      <th>5</th>\n",
       "      <td>6</td>\n",
       "      <td>34</td>\n",
       "      <td>NaN</td>\n",
       "      <td>NaN</td>\n",
       "      <td>Q</td>\n",
       "      <td>1</td>\n",
       "    </tr>\n",
       "  </tbody>\n",
       "</table>\n",
       "</div>"
      ],
      "text/plain": [
       "   patient_id  age  weight stage cat  hot_encoded\n",
       "0           1   41    73.2    IV   Q            1\n",
       "1           2   37    65.9     I   Q          NaN\n",
       "2           3   45    84.1    II   Q            0\n",
       "3           4   47    83.1    II   Q            0\n",
       "4           5   33     NaN   NaN   Q            1\n",
       "5           6   34     NaN   NaN   Q            1"
      ]
     },
     "execution_count": 42,
     "metadata": {},
     "output_type": "execute_result"
    }
   ],
   "source": [
    "dataframe = pandas.read_csv(\"./local/database.csv\", sep=\";\",decimal=\",\", dtype=input_.get(\"columns\"))\n",
    "dataframe"
   ]
  },
  {
   "cell_type": "code",
   "execution_count": 43,
   "metadata": {},
   "outputs": [
    {
     "data": {
      "text/plain": [
       "patient_id        Int64\n",
       "age               Int64\n",
       "weight          float64\n",
       "stage          category\n",
       "cat            category\n",
       "hot_encoded       Int64\n",
       "dtype: object"
      ]
     },
     "execution_count": 43,
     "metadata": {},
     "output_type": "execute_result"
    }
   ],
   "source": [
    "dataframe.dtypes"
   ]
  },
  {
   "cell_type": "markdown",
   "metadata": {},
   "source": [
    "### algorithm.py"
   ]
  },
  {
   "cell_type": "code",
   "execution_count": 44,
   "metadata": {},
   "outputs": [
    {
     "name": "stdout",
     "output_type": "stream",
     "text": [
      "column_names_correct=False\n"
     ]
    }
   ],
   "source": [
    "# retrieve column names from the dataset\n",
    "columns_series = pandas.Series(data=input_.get(\"columns\"))\n",
    "column_names = list(columns_series)\n",
    "\n",
    "# compare column names from dataset to the input column names\n",
    "column_names_correct = column_names == list(input_.get(\"columns\").keys())\n",
    "print(f\"column_names_correct={column_names_correct}\")"
   ]
  },
  {
   "cell_type": "code",
   "execution_count": 45,
   "metadata": {},
   "outputs": [
    {
     "name": "stdout",
     "output_type": "stream",
     "text": [
      "number_of_rows=6\n"
     ]
    }
   ],
   "source": [
    "# count the number of rows in the dataset\n",
    "number_of_rows = len(dataframe)\n",
    "print(f\"number_of_rows={number_of_rows}\")"
   ]
  },
  {
   "cell_type": "code",
   "execution_count": 46,
   "metadata": {},
   "outputs": [
    {
     "data": {
      "text/html": [
       "<div>\n",
       "<style scoped>\n",
       "    .dataframe tbody tr th:only-of-type {\n",
       "        vertical-align: middle;\n",
       "    }\n",
       "\n",
       "    .dataframe tbody tr th {\n",
       "        vertical-align: top;\n",
       "    }\n",
       "\n",
       "    .dataframe thead th {\n",
       "        text-align: right;\n",
       "    }\n",
       "</style>\n",
       "<table border=\"1\" class=\"dataframe\">\n",
       "  <thead>\n",
       "    <tr style=\"text-align: right;\">\n",
       "      <th></th>\n",
       "      <th>min</th>\n",
       "      <th>q1</th>\n",
       "      <th>median</th>\n",
       "      <th>mean</th>\n",
       "      <th>q3</th>\n",
       "      <th>max</th>\n",
       "      <th>nan</th>\n",
       "    </tr>\n",
       "  </thead>\n",
       "  <tbody>\n",
       "    <tr>\n",
       "      <th>age</th>\n",
       "      <td>33</td>\n",
       "      <td>34</td>\n",
       "      <td>39</td>\n",
       "      <td>39</td>\n",
       "      <td>44</td>\n",
       "      <td>47</td>\n",
       "      <td>0</td>\n",
       "    </tr>\n",
       "    <tr>\n",
       "      <th>hot_encoded</th>\n",
       "      <td>0</td>\n",
       "      <td>0</td>\n",
       "      <td>1</td>\n",
       "      <td>0</td>\n",
       "      <td>1</td>\n",
       "      <td>1</td>\n",
       "      <td>1</td>\n",
       "    </tr>\n",
       "    <tr>\n",
       "      <th>patient_id</th>\n",
       "      <td>1</td>\n",
       "      <td>2</td>\n",
       "      <td>3</td>\n",
       "      <td>3</td>\n",
       "      <td>4</td>\n",
       "      <td>6</td>\n",
       "      <td>0</td>\n",
       "    </tr>\n",
       "    <tr>\n",
       "      <th>weight</th>\n",
       "      <td>65</td>\n",
       "      <td>71</td>\n",
       "      <td>78</td>\n",
       "      <td>76</td>\n",
       "      <td>83</td>\n",
       "      <td>84</td>\n",
       "      <td>2</td>\n",
       "    </tr>\n",
       "  </tbody>\n",
       "</table>\n",
       "</div>"
      ],
      "text/plain": [
       "             min  q1  median  mean  q3  max  nan\n",
       "age           33  34      39    39  44   47    0\n",
       "hot_encoded    0   0       1     0   1    1    1\n",
       "patient_id     1   2       3     3   4    6    0\n",
       "weight        65  71      78    76  83   84    2"
      ]
     },
     "execution_count": 46,
     "metadata": {},
     "output_type": "execute_result"
    }
   ],
   "source": [
    "# compute the avarage of the numeric columns\n",
    "columns = {}\n",
    "numeric_colums = columns_series.loc[columns_series.isin(['Int64','float64'])]\n",
    "\n",
    "for column_name in numeric_colums.keys():\n",
    "    column_values = dataframe[column_name]\n",
    "    q1, median, q3 = column_values.quantile([0.25,0.5,0.75]).values\n",
    "    mean = column_values.mean()\n",
    "    minimum = column_values.min()\n",
    "    maximum = column_values.max()\n",
    "    nan = column_values.isna().sum()\n",
    "    columns[column_name] = {\n",
    "        \"min\": int(minimum),\n",
    "        \"q1\": int(q1),\n",
    "        \"median\": int(median),\n",
    "        \"mean\": int(mean),\n",
    "        \"q3\": int(q3),\n",
    "        \"max\": int(maximum),\n",
    "        \"nan\": int(nan)\n",
    "    }\n",
    "pandas.DataFrame.from_dict(columns,orient='index')"
   ]
  },
  {
   "cell_type": "code",
   "execution_count": 47,
   "metadata": {},
   "outputs": [
    {
     "data": {
      "text/plain": [
       "Index(['I', 'II', 'IV'], dtype='object')"
      ]
     },
     "execution_count": 47,
     "metadata": {},
     "output_type": "execute_result"
    }
   ],
   "source": [
    "dataframe[\"stage\"].cat.categories"
   ]
  },
  {
   "cell_type": "code",
   "execution_count": 48,
   "metadata": {},
   "outputs": [
    {
     "data": {
      "text/plain": [
       "{'II': 2, 'IV': 1, 'I': 1}"
      ]
     },
     "execution_count": 48,
     "metadata": {},
     "output_type": "execute_result"
    }
   ],
   "source": [
    "dataframe[\"stage\"].value_counts().to_dict()"
   ]
  },
  {
   "cell_type": "code",
   "execution_count": 49,
   "metadata": {},
   "outputs": [
    {
     "data": {
      "text/plain": [
       "II    2\n",
       "IV    1\n",
       "I     1\n",
       "dtype: int64"
      ]
     },
     "metadata": {},
     "output_type": "display_data"
    },
    {
     "data": {
      "text/plain": [
       "Q    6\n",
       "dtype: int64"
      ]
     },
     "metadata": {},
     "output_type": "display_data"
    }
   ],
   "source": [
    "# return the categories in categorial columns\n",
    "categoral_colums = columns_series.loc[columns_series.isin(['category'])]\n",
    "\n",
    "for column_name in categoral_colums.keys():\n",
    "    \n",
    "    columns[column_name] = dataframe[column_name].value_counts().to_dict()\n",
    "    \n",
    "    display(pandas.Series(columns[column_name]))"
   ]
  },
  {
   "cell_type": "code",
   "execution_count": 50,
   "metadata": {},
   "outputs": [
    {
     "data": {
      "text/plain": [
       "{'column_names_correct': False,\n",
       " 'number_of_rows': 6,\n",
       " 'statistics': {'patient_id': {'min': 1,\n",
       "   'q1': 2,\n",
       "   'median': 3,\n",
       "   'mean': 3,\n",
       "   'q3': 4,\n",
       "   'max': 6,\n",
       "   'nan': 0},\n",
       "  'age': {'min': 33,\n",
       "   'q1': 34,\n",
       "   'median': 39,\n",
       "   'mean': 39,\n",
       "   'q3': 44,\n",
       "   'max': 47,\n",
       "   'nan': 0},\n",
       "  'weight': {'min': 65,\n",
       "   'q1': 71,\n",
       "   'median': 78,\n",
       "   'mean': 76,\n",
       "   'q3': 83,\n",
       "   'max': 84,\n",
       "   'nan': 2},\n",
       "  'hot_encoded': {'min': 0,\n",
       "   'q1': 0,\n",
       "   'median': 1,\n",
       "   'mean': 0,\n",
       "   'q3': 1,\n",
       "   'max': 1,\n",
       "   'nan': 1},\n",
       "  'stage': {'II': 2, 'IV': 1, 'I': 1},\n",
       "  'cat': {'Q': 6}}}"
      ]
     },
     "execution_count": 50,
     "metadata": {},
     "output_type": "execute_result"
    }
   ],
   "source": [
    "output = {\n",
    "    \"column_names_correct\": column_names_correct,\n",
    "    \"number_of_rows\": number_of_rows,\n",
    "    \"statistics\": columns\n",
    "}\n",
    "output"
   ]
  },
  {
   "cell_type": "markdown",
   "metadata": {},
   "source": [
    "### output.txt"
   ]
  },
  {
   "cell_type": "code",
   "execution_count": 51,
   "metadata": {},
   "outputs": [],
   "source": [
    "with open(\"./local/output.txt\", \"w\") as fp:\n",
    "    json.dump(output,fp)"
   ]
  },
  {
   "cell_type": "code",
   "execution_count": null,
   "metadata": {},
   "outputs": [],
   "source": []
  }
 ],
 "metadata": {
  "kernelspec": {
   "display_name": "Python 3",
   "language": "python",
   "name": "python3"
  },
  "language_info": {
   "codemirror_mode": {
    "name": "ipython",
    "version": 3
   },
   "file_extension": ".py",
   "mimetype": "text/x-python",
   "name": "python",
   "nbconvert_exporter": "python",
   "pygments_lexer": "ipython3",
   "version": "3.7.0"
  }
 },
 "nbformat": 4,
 "nbformat_minor": 2
}
