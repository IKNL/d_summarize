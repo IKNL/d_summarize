{
 "cells": [
  {
   "cell_type": "markdown",
   "metadata": {},
   "source": [
    "# d_summary\n",
    "Algorithm that does some vary basic validation of the remote dataset. Which includes:\n",
    "* Check header labels\n",
    "* Count the number of rows\n",
    "* Average of `int64` and `float64` columns\n",
    "* Categories of `category` columns\n",
    "\n",
    "Limits of the algorithm:\n",
    "* The entire dataset needs at least 10 records.\n",
    "* `category` columns needs at least 2 different values"
   ]
  },
  {
   "cell_type": "markdown",
   "metadata": {},
   "source": [
    "## 1. Algorithm"
   ]
  },
  {
   "cell_type": "code",
   "execution_count": 1,
   "metadata": {},
   "outputs": [],
   "source": [
    "import pandas\n",
    "import json"
   ]
  },
  {
   "cell_type": "markdown",
   "metadata": {},
   "source": [
    "### input.txt\n",
    "The input.txt is mounted by the docker-container, and contains input to the algorithm.\n",
    "\n",
    "The input for this algorithm include the method name that is called in the docker-container `summarize` and a `dict` containing column names and dtypes. The allowed types are: `object`, `int64`, `float64`, `bool`, `datetime64`, `category`"
   ]
  },
  {
   "cell_type": "code",
   "execution_count": 111,
   "metadata": {},
   "outputs": [],
   "source": [
    "input_ = {\n",
    "    \"method\":\"summarize\", \n",
    "    \"columns\":{\n",
    "        \"patient_id\": 'int64',\n",
    "        \"age\": 'int64',\n",
    "        \"weight\": 'float64', \n",
    "        \"stage\": 'category',\n",
    "        \"cat\": 'category'\n",
    "    }\n",
    "}"
   ]
  },
  {
   "cell_type": "markdown",
   "metadata": {},
   "source": [
    "### database.csv\n",
    "The database csv-file is mounted in the docker-container."
   ]
  },
  {
   "cell_type": "code",
   "execution_count": 112,
   "metadata": {},
   "outputs": [
    {
     "data": {
      "text/html": [
       "<div>\n",
       "<style scoped>\n",
       "    .dataframe tbody tr th:only-of-type {\n",
       "        vertical-align: middle;\n",
       "    }\n",
       "\n",
       "    .dataframe tbody tr th {\n",
       "        vertical-align: top;\n",
       "    }\n",
       "\n",
       "    .dataframe thead th {\n",
       "        text-align: right;\n",
       "    }\n",
       "</style>\n",
       "<table border=\"1\" class=\"dataframe\">\n",
       "  <thead>\n",
       "    <tr style=\"text-align: right;\">\n",
       "      <th></th>\n",
       "      <th>patient_id</th>\n",
       "      <th>age</th>\n",
       "      <th>weight</th>\n",
       "      <th>stage</th>\n",
       "      <th>cat</th>\n",
       "    </tr>\n",
       "  </thead>\n",
       "  <tbody>\n",
       "    <tr>\n",
       "      <th>0</th>\n",
       "      <td>1</td>\n",
       "      <td>41</td>\n",
       "      <td>73.2</td>\n",
       "      <td>IV</td>\n",
       "      <td>Q</td>\n",
       "    </tr>\n",
       "    <tr>\n",
       "      <th>1</th>\n",
       "      <td>2</td>\n",
       "      <td>37</td>\n",
       "      <td>65.9</td>\n",
       "      <td>I</td>\n",
       "      <td>Q</td>\n",
       "    </tr>\n",
       "    <tr>\n",
       "      <th>2</th>\n",
       "      <td>3</td>\n",
       "      <td>45</td>\n",
       "      <td>84.1</td>\n",
       "      <td>II</td>\n",
       "      <td>Q</td>\n",
       "    </tr>\n",
       "  </tbody>\n",
       "</table>\n",
       "</div>"
      ],
      "text/plain": [
       "   patient_id  age  weight stage cat\n",
       "0           1   41    73.2    IV   Q\n",
       "1           2   37    65.9     I   Q\n",
       "2           3   45    84.1    II   Q"
      ]
     },
     "execution_count": 112,
     "metadata": {},
     "output_type": "execute_result"
    }
   ],
   "source": [
    "dataframe = pandas.read_csv(\"example_dataset.csv\", sep=\";\",decimal=\",\", dtype=input_.get(\"columns\"))\n",
    "dataframe"
   ]
  },
  {
   "cell_type": "code",
   "execution_count": 113,
   "metadata": {},
   "outputs": [
    {
     "data": {
      "text/plain": [
       "patient_id       int64\n",
       "age              int64\n",
       "weight         float64\n",
       "stage         category\n",
       "cat           category\n",
       "dtype: object"
      ]
     },
     "execution_count": 113,
     "metadata": {},
     "output_type": "execute_result"
    }
   ],
   "source": [
    "dataframe.dtypes"
   ]
  },
  {
   "cell_type": "markdown",
   "metadata": {},
   "source": [
    "### algorithm.py"
   ]
  },
  {
   "cell_type": "code",
   "execution_count": 114,
   "metadata": {},
   "outputs": [
    {
     "name": "stdout",
     "output_type": "stream",
     "text": [
      "column_names_correct=False\n"
     ]
    }
   ],
   "source": [
    "# retrieve column names from the dataset\n",
    "columns_series = pandas.Series(data=input_.get(\"columns\"))\n",
    "column_names = list(columns_series)\n",
    "\n",
    "# compare column names from dataset to the input column names\n",
    "column_names_correct = column_names == list(input_.get(\"columns\").keys())\n",
    "print(f\"column_names_correct={column_names_correct}\")"
   ]
  },
  {
   "cell_type": "code",
   "execution_count": 115,
   "metadata": {},
   "outputs": [
    {
     "name": "stdout",
     "output_type": "stream",
     "text": [
      "number_of_rows=3\n"
     ]
    }
   ],
   "source": [
    "# count the number of rows in the dataset\n",
    "number_of_rows = len(dataframe)\n",
    "print(f\"number_of_rows={number_of_rows}\")"
   ]
  },
  {
   "cell_type": "code",
   "execution_count": 116,
   "metadata": {},
   "outputs": [
    {
     "name": "stdout",
     "output_type": "stream",
     "text": [
      "computed averages={'patient_id': 2.0, 'age': 41.0, 'weight': 74.4}\n"
     ]
    }
   ],
   "source": [
    "# compute the avarage of the numeric columns\n",
    "numeric_colums = columns_series.loc[columns_series.isin(['int64','float64'])]\n",
    "averages = {}\n",
    "for column_name in numeric_colums.keys():\n",
    "    averages[column_name] = dataframe[column_name].mean()\n",
    "print(f\"computed averages={averages}\")"
   ]
  },
  {
   "cell_type": "code",
   "execution_count": 125,
   "metadata": {},
   "outputs": [
    {
     "name": "stdout",
     "output_type": "stream",
     "text": [
      "found categories={'stage': ['I', 'II', 'IV'], 'cat': 'single category'}\n"
     ]
    }
   ],
   "source": [
    "# return the categories in categorial columns\n",
    "categoral_colums = columns_series.loc[columns_series.isin(['category'])]\n",
    "categories = {}\n",
    "for column_name in categoral_colums.keys():\n",
    "    t = list(dataframe[column_name].cat.categories)\n",
    "    categories[column_name] = t if len(t) > 1 else \"single category\"\n",
    "print(f\"found categories={categories}\")"
   ]
  },
  {
   "cell_type": "code",
   "execution_count": 126,
   "metadata": {},
   "outputs": [
    {
     "data": {
      "text/plain": [
       "{'column_names_correct': False,\n",
       " 'number_of_rows': 3,\n",
       " 'averages': {'patient_id': 2.0, 'age': 41.0, 'weight': 74.4},\n",
       " 'categories': {'stage': ['I', 'II', 'IV'], 'cat': 'single category'}}"
      ]
     },
     "execution_count": 126,
     "metadata": {},
     "output_type": "execute_result"
    }
   ],
   "source": [
    "output = {\n",
    "    \"column_names_correct\": column_names_correct,\n",
    "    \"number_of_rows\": number_of_rows,\n",
    "    \"averages\": averages,\n",
    "    \"categories\": categories\n",
    "}\n",
    "output"
   ]
  },
  {
   "cell_type": "markdown",
   "metadata": {},
   "source": [
    "### output.txt"
   ]
  },
  {
   "cell_type": "code",
   "execution_count": 128,
   "metadata": {},
   "outputs": [],
   "source": [
    "with open(\"output.txt\", \"w\") as fp:\n",
    "    json.dump(output,fp)"
   ]
  },
  {
   "cell_type": "code",
   "execution_count": null,
   "metadata": {},
   "outputs": [],
   "source": []
  }
 ],
 "metadata": {
  "kernelspec": {
   "display_name": "Python 3",
   "language": "python",
   "name": "python3"
  },
  "language_info": {
   "codemirror_mode": {
    "name": "ipython",
    "version": 3
   },
   "file_extension": ".py",
   "mimetype": "text/x-python",
   "name": "python",
   "nbconvert_exporter": "python",
   "pygments_lexer": "ipython3",
   "version": "3.7.0"
  }
 },
 "nbformat": 4,
 "nbformat_minor": 2
}
